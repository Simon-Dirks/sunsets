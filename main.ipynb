{
 "cells": [
  {
   "cell_type": "code",
   "execution_count": 105,
   "metadata": {},
   "outputs": [],
   "source": [
    "import rasterio\n",
    "\n",
    "def get_geotiff():\n",
    "    with rasterio.open(\"ahn3.tif\") as src:\n",
    "        elev_data = src.read(1)\n",
    "        # replace all 1e38 values with 0\n",
    "        elev_data[elev_data >= 1e37] = 0\n",
    "        return elev_data\n"
   ]
  },
  {
   "cell_type": "code",
   "execution_count": 106,
   "metadata": {
    "pycharm": {
     "name": "#%%\n"
    }
   },
   "outputs": [],
   "source": [
    "def find_highest_point(file_path):\n",
    "    elev_data = get_geotiff()\n",
    "\n",
    "    # find the maximum elevation value and its corresponding location\n",
    "    max_elev = np.amax(elev_data)\n",
    "    max_loc = np.unravel_index(np.argmax(elev_data, axis=None), elev_data.shape)\n",
    "\n",
    "    return max_elev, max_loc[0], max_loc[1]"
   ]
  },
  {
   "cell_type": "code",
   "execution_count": null,
   "metadata": {
    "pycharm": {
     "is_executing": true,
     "name": "#%%\n"
    }
   },
   "outputs": [],
   "source": []
  },
  {
   "cell_type": "code",
   "execution_count": 107,
   "metadata": {
    "pycharm": {
     "is_executing": true,
     "name": "#%%\n"
    }
   },
   "outputs": [],
   "source": [
    "import numpy as np\n",
    "import rasterio\n",
    "import matplotlib.pyplot as plt\n",
    "from rasterio.warp import transform\n",
    "\n",
    "def preview_geotiff_with_dots(file_path, locations):\n",
    "    elev_data = get_geotiff()\n",
    "\n",
    "    # get the minimum and maximum values of the elevation data\n",
    "    elev_min = np.nanmin(elev_data)\n",
    "    elev_max = np.nanmax(elev_data)\n",
    "\n",
    "    # create a Matplotlib figure and axis objects\n",
    "    fig, ax = plt.subplots(figsize=(12, 12))\n",
    "\n",
    "    # plot the elevation data as an image\n",
    "    im = ax.imshow(elev_data, cmap='terrain', vmin=elev_min, vmax=elev_max)\n",
    "\n",
    "    # add a colorbar to the plot\n",
    "    cbar = fig.colorbar(im, ax=ax, fraction=0.03, pad=0.04)\n",
    "\n",
    "    # add dots at the specified locations\n",
    "    for location in locations:\n",
    "        x, y = location[0], location[1]\n",
    "        ax.scatter(x, y, s=50, c='red', marker='o')\n",
    "\n",
    "        for angle in range(0,360,5):\n",
    "            draw_ray_to_higher_altitude(ax, elev_data, x, y, angle)\n",
    "\n",
    "    # set the plot title and axis labels\n",
    "    ax.set_title(\"AHN3 Elevation Data with Dot\")\n",
    "    ax.set_xlabel(\"Column Index\")\n",
    "    ax.set_ylabel(\"Row Index\")\n",
    "\n",
    "    # display the plot\n",
    "    plt.show()\n",
    "    \n"
   ]
  },
  {
   "cell_type": "code",
   "execution_count": 108,
   "metadata": {
    "pycharm": {
     "name": "#%%\n"
    }
   },
   "outputs": [],
   "source": [
    "import numpy as np\n",
    "\n",
    "def draw_ray_to_higher_altitude(ax, elev_data, x, y, angle):\n",
    "    # get the elevation at the location\n",
    "    loc_elev = elev_data[y, x]\n",
    "\n",
    "    # calculate the slope of the ray\n",
    "    slope = np.tan(np.deg2rad(angle))\n",
    "\n",
    "    # calculate the direction of the ray\n",
    "    if angle > 90 and angle <= 270:\n",
    "        x_dir = -1\n",
    "    else:\n",
    "        x_dir = 1\n",
    "\n",
    "    if angle > 0 and angle <= 180:\n",
    "        y_dir = -1\n",
    "    else:\n",
    "        y_dir = 1\n",
    "\n",
    "    # start the ray at the location\n",
    "    ray_x, ray_y = x, y\n",
    "\n",
    "    # move the ray one pixel at a time until it hits a point at a higher altitude\n",
    "    while True:\n",
    "        # calculate the next pixel location along the ray\n",
    "        next_x = ray_x + x_dir\n",
    "        next_y = ray_y + y_dir * slope\n",
    "\n",
    "        # check if the next pixel is out of bounds\n",
    "        if next_x < 0 or next_x >= elev_data.shape[1] or next_y < 0 or next_y >= elev_data.shape[0]:\n",
    "            break\n",
    "\n",
    "        # check if the next pixel is at a higher altitude\n",
    "        if elev_data[int(next_y), next_x] > loc_elev:\n",
    "            break\n",
    "\n",
    "        # update the ray position\n",
    "        ray_x, ray_y = next_x, next_y\n",
    "\n",
    "    # if the ray hit a point at a higher altitude, plot a line from the location to that point\n",
    "    if ray_x >= 0 and ray_x < elev_data.shape[1] and ray_y >= 0 and ray_y < elev_data.shape[0]:\n",
    "        ax.plot([x, ray_x], [y, ray_y], color='yellow', linewidth=1)\n"
   ]
  },
  {
   "cell_type": "code",
   "execution_count": 109,
   "metadata": {
    "pycharm": {
     "name": "#%%\n"
    }
   },
   "outputs": [],
   "source": [
    "def get_sample_grid_locations(file_name, n=10):\n",
    "    elev_data = get_geotiff()\n",
    "    \n",
    "    shape = elev_data.shape\n",
    "\n",
    "    num_rows = n\n",
    "    num_cols = n\n",
    "    row_step = shape[0] // num_rows\n",
    "    col_step = shape[1] // num_cols\n",
    "    locations = []\n",
    "    for row_idx in range(num_rows):\n",
    "        for col_idx in range(num_cols):\n",
    "            row_start = row_idx * row_step\n",
    "            col_start = col_idx * col_step\n",
    "            x = col_start + col_step // 2\n",
    "            y = row_start + row_step // 2\n",
    "            locations.append((x, y))\n",
    "    \n",
    "    return locations"
   ]
  },
  {
   "cell_type": "code",
   "execution_count": null,
   "metadata": {
    "pycharm": {
     "is_executing": true,
     "name": "#%%\n"
    }
   },
   "outputs": [],
   "source": [
    "locations = get_sample_grid_locations(\"ahn3.tif\", 4)\n",
    "preview_geotiff_with_dots(\"ahn3.tif\", locations)\n",
    "\n",
    "\n"
   ]
  },
  {
   "cell_type": "code",
   "execution_count": null,
   "metadata": {
    "pycharm": {
     "is_executing": true,
     "name": "#%%\n"
    }
   },
   "outputs": [],
   "source": []
  },
  {
   "cell_type": "code",
   "execution_count": null,
   "metadata": {},
   "outputs": [],
   "source": []
  },
  {
   "cell_type": "code",
   "execution_count": null,
   "metadata": {},
   "outputs": [],
   "source": []
  }
 ],
 "metadata": {
  "kernelspec": {
   "display_name": "Python 3 (ipykernel)",
   "language": "python",
   "name": "python3"
  },
  "language_info": {
   "codemirror_mode": {
    "name": "ipython",
    "version": 3
   },
   "file_extension": ".py",
   "mimetype": "text/x-python",
   "name": "python",
   "nbconvert_exporter": "python",
   "pygments_lexer": "ipython3",
   "version": "3.9.10"
  }
 },
 "nbformat": 4,
 "nbformat_minor": 1
}
